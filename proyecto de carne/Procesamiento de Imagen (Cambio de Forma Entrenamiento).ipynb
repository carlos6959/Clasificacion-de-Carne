{
 "cells": [
  {
   "cell_type": "code",
   "execution_count": 2,
   "id": "ae4f8481",
   "metadata": {},
   "outputs": [
    {
     "name": "stdout",
     "output_type": "stream",
     "text": [
      "images generated 310\n"
     ]
    }
   ],
   "source": [
    "import os\n",
    "import numpy as np\n",
    "import cv2\n",
    "from keras.preprocessing.image import ImageDataGenerator, load_img, image, img_to_array\n",
    "\n",
    "\n",
    "DG_folder='DG_data'\n",
    "images_increased = 5\n",
    "\n",
    "try:\n",
    "    os.mkdir(DG_folder)\n",
    "except:\n",
    "    print(\"\")\n",
    "    \n",
    "train_datagen = ImageDataGenerator(\n",
    "    rotation_range=20,\n",
    "    zoom_range=0.2,\n",
    "    width_shift_range=0.1,\n",
    "    height_shift_range=0.1,\n",
    "    horizontal_flip=True,\n",
    "    vertical_flip=False)\n",
    "\n",
    "\n",
    "data_path = \"C:/Users/carlo/Desktop/proyecto de carne/data/entrenamiento/CLASS_02\"\n",
    "data_dir_list = os.listdir(data_path)\n",
    "\n",
    "\n",
    "width_shape, height_shape = 224, 244\n",
    "\n",
    "i=0\n",
    "num_images=0\n",
    "for image_file in data_dir_list:\n",
    "    img_list=os.listdir(data_path)\n",
    "\n",
    "    img_path = data_path + '/'+ image_file\n",
    "\n",
    "    imge=load_img(img_path)\n",
    "    \n",
    "    imge=cv2.resize(image.img_to_array(imge), (width_shape, height_shape), interpolation = cv2.INTER_AREA)\n",
    "    x= imge/255\n",
    "    x=np.expand_dims(x,axis=0)\n",
    "    t=1\n",
    "    for output_batch in train_datagen.flow(x,batch_size=1):\n",
    "        a=image.img_to_array(output_batch[0])\n",
    "        imagen=output_batch[0,:,:]*255\n",
    "        imgfinal = cv2.cvtColor(imagen, cv2.COLOR_BGR2RGB)\n",
    "        cv2.imwrite(DG_folder+\"/%i%i.jpg\"%(i,t), imgfinal) \n",
    "        t+=1\n",
    "        \n",
    "        num_images+=1\n",
    "        if t>images_increased:\n",
    "            break\n",
    "    i+=1\n",
    "    \n",
    "print(\"images generated\",num_images)"
   ]
  },
  {
   "cell_type": "code",
   "execution_count": null,
   "id": "0930e740",
   "metadata": {},
   "outputs": [],
   "source": []
  }
 ],
 "metadata": {
  "kernelspec": {
   "display_name": "Python 3 (ipykernel)",
   "language": "python",
   "name": "python3"
  },
  "language_info": {
   "codemirror_mode": {
    "name": "ipython",
    "version": 3
   },
   "file_extension": ".py",
   "mimetype": "text/x-python",
   "name": "python",
   "nbconvert_exporter": "python",
   "pygments_lexer": "ipython3",
   "version": "3.7.16"
  }
 },
 "nbformat": 4,
 "nbformat_minor": 5
}
